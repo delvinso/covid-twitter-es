{
 "cells": [
  {
   "cell_type": "code",
   "execution_count": 1,
   "id": "f03817bc-a2b6-4a08-bdc6-a340e1782dac",
   "metadata": {},
   "outputs": [],
   "source": [
    "# TODO\n",
    "- typing for rows since no types are converted, try json.dumps?\n",
    "- https://stackoverflow.com/questions/19080007/csv-reader-and-dictreader-turn-numeric-fields-into-strings\n",
    "- https://stackoverflow.com/questions/19080007/csv-reader-and-dictreader-turn-numeric-fields-into-strings\n",
    "https://kb.objectrocket.com/elasticsearch/how-to-use-python-helpers-to-bulk-load-data-into-an-elasticsearch-index\n",
    " https://github.com/elastic/elasticsearch-py/blob/master/examples/bulk-ingest/bulk-ingest.py\n",
    "- clean up the mapping dict (formatting)\n",
    "- "
   ]
  },
  {
   "cell_type": "code",
   "execution_count": 5,
   "id": "a7e3cd5c-6fad-43e9-960b-bd736e8ba17d",
   "metadata": {},
   "outputs": [],
   "source": [
    "import csv\n",
    "import gzip\n",
    "from elasticsearch import Elasticsearch, helpers\n",
    "import json\n",
    "es=Elasticsearch([{'host':'localhost', 'port':9200}])\n",
    "index_name = 'twitter'\n",
    "\n",
    "from pprint import pprint\n",
    "import pandas as pd\n",
    "import ast\n",
    "import datetime"
   ]
  },
  {
   "cell_type": "code",
   "execution_count": 6,
   "id": "9a72715a-736f-4cd0-954a-2b4bbbd4cb04",
   "metadata": {},
   "outputs": [
    {
     "data": {
      "text/plain": [
       "<Elasticsearch([{'host': 'localhost', 'port': 9200}])>"
      ]
     },
     "execution_count": 6,
     "metadata": {},
     "output_type": "execute_result"
    }
   ],
   "source": [
    "es"
   ]
  },
  {
   "cell_type": "code",
   "execution_count": 7,
   "id": "65054497-576a-4ac5-a596-3f61ecce7344",
   "metadata": {},
   "outputs": [],
   "source": [
    "mapping = {\n",
    "    \"mappings\": {\n",
    "        \"properties\": {\n",
    "            \"account_created_at\": {\"type\": \"date\"},\n",
    "            \"account_lang\": {\"type\": \"text\"},\n",
    "            \"created_at\": {\"type\": \"date\"},\n",
    "            \"description\": {\"type\": \"text\"},\n",
    "            \"favorite_count\": {\"type\": \"integer\"},\n",
    "            \"favourites_count\": {\"type\": \"integer\"},\n",
    "            \"followers_count\": {\"type\": \"integer\"},\n",
    "            \"hashtags\": {\"type\": \"text\"},\n",
    "            \"lang\": {\"type\": \"text\"},\n",
    "            \"lat\": {\"type\": \"integer\"},\n",
    "            \"lng\": {\"type\": \"integer\"},\n",
    "            \"location\": {\"type\": \"text\"},\n",
    "            \"name\": {\"type\": \"text\"},\n",
    "            \"protected\": {\"type\": \"boolean\"},\n",
    "            \"quote_count\": {\"type\": \"integer\"},\n",
    "            \"reply_count\": {\"type\": \"integer\"},\n",
    "            \"reply_to_status_id\": {\"type\": \"long\"},\n",
    "            \"reply_to_user_id\": {\"type\": \"long\"},\n",
    "            \"retweet_count\": {\"type\": \"integer\"},\n",
    "            \"screen_name\": {\"type\": \"text\"},\n",
    "            \"source\": {\"type\": \"text\"},\n",
    "            \"status_id\": {\"type\": \"long\"},\n",
    "            \"text\": {\"type\": \"text\"},\n",
    "            \"user_id\": {\"type\": \"long\"},\n",
    "            \"verified\": {\"type\": \"boolean\"},\n",
    "        }\n",
    "    }\n",
    "}\n"
   ]
  },
  {
   "cell_type": "code",
   "execution_count": 8,
   "id": "4056b136-30e2-47bb-910d-3bde85a8b124",
   "metadata": {
    "tags": []
   },
   "outputs": [
    {
     "data": {
      "text/plain": [
       "{'error': {'root_cause': [{'type': 'resource_already_exists_exception',\n",
       "    'reason': 'index [twitter/XdDjVTHERJ6MdmoW6QBJrA] already exists',\n",
       "    'index_uuid': 'XdDjVTHERJ6MdmoW6QBJrA',\n",
       "    'index': 'twitter'}],\n",
       "  'type': 'resource_already_exists_exception',\n",
       "  'reason': 'index [twitter/XdDjVTHERJ6MdmoW6QBJrA] already exists',\n",
       "  'index_uuid': 'XdDjVTHERJ6MdmoW6QBJrA',\n",
       "  'index': 'twitter'},\n",
       " 'status': 400}"
      ]
     },
     "execution_count": 8,
     "metadata": {},
     "output_type": "execute_result"
    }
   ],
   "source": [
    "#es.indices.delete(index=index_name, ignore=[400, 404])\n",
    "es.indices.create(\n",
    "    index=index_name,\n",
    "    body=mapping,\n",
    "    ignore=400 # ignore 400 already exists code\n",
    ")"
   ]
  },
  {
   "cell_type": "code",
   "execution_count": 5,
   "id": "042dc206-e92b-43b2-a71d-45e613aab92d",
   "metadata": {
    "jupyter": {
     "source_hidden": true
    },
    "tags": []
   },
   "outputs": [],
   "source": [
    "test = pd.read_csv(\"co19_2020-06-09_nort.csv.gz\")\n"
   ]
  },
  {
   "cell_type": "code",
   "execution_count": 86,
   "id": "a1c81739-92e6-4eef-8095-d125ac8aa3f6",
   "metadata": {
    "tags": []
   },
   "outputs": [
    {
     "name": "stdout",
     "output_type": "stream",
     "text": [
      "{'account_created_at': '2011-11-16T21:03:15Z',\n",
      " 'account_lang': nan,\n",
      " 'created_at': '2020-06-09T23:59:59Z',\n",
      " 'description': 'Full service law firm in Sioux City, Sioux Falls, and Omaha. '\n",
      "                'Attorneys licensed in IA, NE, SD & CA.',\n",
      " 'favorite_count': 0,\n",
      " 'favourites_count': 187,\n",
      " 'followers_count': 593,\n",
      " 'hashtags': 'CPA COVID19',\n",
      " 'lang': 'en',\n",
      " 'lat': nan,\n",
      " 'lng': nan,\n",
      " 'location': nan,\n",
      " 'name': 'Goosmann Law Firm',\n",
      " 'protected': False,\n",
      " 'quote_count': nan,\n",
      " 'reply_count': nan,\n",
      " 'reply_to_status_id': nan,\n",
      " 'reply_to_user_id': nan,\n",
      " 'retweet_count': 0,\n",
      " 'screen_name': 'GoosmannLawFirm',\n",
      " 'source': 'HubSpot',\n",
      " 'status_id': 1270505958029041667,\n",
      " 'text': '🎙️Host Jeana Goosmann and Jeremy Vokt discuss how business owners '\n",
      "         'have been impacted during COVID-19. They discuss the PPP Loan and '\n",
      "         'loan forgiveness. #CPA #COVID19 \\n'\n",
      "         'https://t.co/Sp3jPd49S7',\n",
      " 'user_id': 414267928,\n",
      " 'verified': False}\n"
     ]
    }
   ],
   "source": [
    "from pprint import pprint\n",
    "pprint(test.iloc[0].to_dict())"
   ]
  },
  {
   "cell_type": "code",
   "execution_count": 10,
   "id": "180449b3-2537-4b45-8616-ee41c2b29b9a",
   "metadata": {},
   "outputs": [],
   "source": [
    "\n",
    "# using dictreader \n",
    "def document_stream(file_to_index, index_name):\n",
    "    \n",
    "\n",
    "    with gzip.open(file_to_index, \"rt\", newline=\"\") as csvfile:\n",
    "        \n",
    "        for row in csv.DictReader(csvfile):\n",
    "\n",
    "            for fld in ['verified', 'protected']:\n",
    "                row[fld] = (row[fld] == 'True') # these are both either 'True' or 'False'\n",
    "                                                                \n",
    "            for fld in ['favorite_count', 'favourites_count', 'followers_count', 'quote_count', 'reply_count', 'reply_to_status_id', 'reply_to_user_id', 'retweet_count', 'status_id', 'user_id']:\n",
    "                row[fld] = try_int(row[fld])\n",
    "            \n",
    "            for k in row:\n",
    "                if row[k] == 'NA': \n",
    "                    row[k] = None\n",
    "            \n",
    "            status_id = row['status_id']\n",
    "            # delete status_id k:v so it doesn't persist in the output of the generator\n",
    "            del row['status_id']\n",
    "                                                                \n",
    "            \n",
    "            yield {\"_index\": index_name,\n",
    "                   #\"_type\": type_name,\n",
    "                   \"_id\" : status_id,\n",
    "                   \"_source\": json.dumps(row),\n",
    "                   }\n",
    "            \n",
    "def try_int(s):\n",
    "    try: \n",
    "        int(s)\n",
    "        return int(s)\n",
    "    except ValueError:\n",
    "        return s\n",
    "                "
   ]
  },
  {
   "cell_type": "code",
   "execution_count": 79,
   "id": "d50da336-9430-4625-baa4-e110527ef8c7",
   "metadata": {
    "tags": []
   },
   "outputs": [],
   "source": [
    "# # using pandas then writing to buffer\n",
    "# def document_stream(file_to_index, index_name):\n",
    "#     df = pd.read_csv(file_to_index)\n",
    "#     buffer = StringIO()  #creating an empty buffer\n",
    "#     df.to_csv(buffer, index = False)  #filling that buffer\n",
    "#     buffer.seek(0) #set to the start of the stream\n",
    "\n",
    "#     for row in csv.DictReader(buffer):\n",
    "#         status_id = row['status_id']\n",
    "#         del row['status_id']\n",
    "\n",
    "#         yield {\"_index\": index_name,\n",
    "#                #\"_type\": type_name,\n",
    "#                \"_id\" : status_id,\n",
    "#                \"_source\": json.dumps(row),\n",
    "\n",
    "# #                    \"text\" : row['text'],\n",
    "# #                     \"description\" : row[\"description\"]\n",
    "# #                    \"hashtags\" : row['hashtags'],\n",
    "# #                    \"name\" : row['name'],\n",
    "# #                    \"screen_name\" : row['screen_name'],\n",
    "\n",
    "#                }\n",
    "            "
   ]
  },
  {
   "cell_type": "code",
   "execution_count": 81,
   "id": "cc316b84-7c60-4fde-9f8f-53edb0080466",
   "metadata": {
    "tags": []
   },
   "outputs": [
    {
     "ename": "KeyboardInterrupt",
     "evalue": "",
     "output_type": "error",
     "traceback": [
      "\u001b[0;31m---------------------------------------------------------------------------\u001b[0m",
      "\u001b[0;31mKeyboardInterrupt\u001b[0m                         Traceback (most recent call last)",
      "\u001b[0;32m/tmp/ipykernel_30912/133582235.py\u001b[0m in \u001b[0;36m<module>\u001b[0;34m\u001b[0m\n\u001b[0;32m----> 1\u001b[0;31m \u001b[0mpprint\u001b[0m\u001b[0;34m(\u001b[0m\u001b[0;34m[\u001b[0m\u001b[0mx\u001b[0m \u001b[0;32mfor\u001b[0m \u001b[0mi\u001b[0m\u001b[0;34m,\u001b[0m \u001b[0mx\u001b[0m  \u001b[0;32min\u001b[0m \u001b[0menumerate\u001b[0m\u001b[0;34m(\u001b[0m\u001b[0mdocument_stream\u001b[0m\u001b[0;34m(\u001b[0m\u001b[0;34m\"co19_2020-06-09_nort.csv.gz\"\u001b[0m\u001b[0;34m,\u001b[0m \u001b[0mindex_name\u001b[0m\u001b[0;34m)\u001b[0m\u001b[0;34m)\u001b[0m \u001b[0;32mif\u001b[0m \u001b[0mi\u001b[0m \u001b[0;34m>\u001b[0m \u001b[0;36m0\u001b[0m \u001b[0;32mand\u001b[0m \u001b[0mi\u001b[0m \u001b[0;34m<=\u001b[0m \u001b[0;36m10\u001b[0m\u001b[0;34m]\u001b[0m\u001b[0;34m)\u001b[0m\u001b[0;34m\u001b[0m\u001b[0;34m\u001b[0m\u001b[0m\n\u001b[0m",
      "\u001b[0;32m/tmp/ipykernel_30912/133582235.py\u001b[0m in \u001b[0;36m<listcomp>\u001b[0;34m(.0)\u001b[0m\n\u001b[0;32m----> 1\u001b[0;31m \u001b[0mpprint\u001b[0m\u001b[0;34m(\u001b[0m\u001b[0;34m[\u001b[0m\u001b[0mx\u001b[0m \u001b[0;32mfor\u001b[0m \u001b[0mi\u001b[0m\u001b[0;34m,\u001b[0m \u001b[0mx\u001b[0m  \u001b[0;32min\u001b[0m \u001b[0menumerate\u001b[0m\u001b[0;34m(\u001b[0m\u001b[0mdocument_stream\u001b[0m\u001b[0;34m(\u001b[0m\u001b[0;34m\"co19_2020-06-09_nort.csv.gz\"\u001b[0m\u001b[0;34m,\u001b[0m \u001b[0mindex_name\u001b[0m\u001b[0;34m)\u001b[0m\u001b[0;34m)\u001b[0m \u001b[0;32mif\u001b[0m \u001b[0mi\u001b[0m \u001b[0;34m>\u001b[0m \u001b[0;36m0\u001b[0m \u001b[0;32mand\u001b[0m \u001b[0mi\u001b[0m \u001b[0;34m<=\u001b[0m \u001b[0;36m10\u001b[0m\u001b[0;34m]\u001b[0m\u001b[0;34m)\u001b[0m\u001b[0;34m\u001b[0m\u001b[0;34m\u001b[0m\u001b[0m\n\u001b[0m",
      "\u001b[0;32m/tmp/ipykernel_30912/1255714853.py\u001b[0m in \u001b[0;36mdocument_stream\u001b[0;34m(file_to_index, index_name)\u001b[0m\n\u001b[1;32m      6\u001b[0m \u001b[0;34m\u001b[0m\u001b[0m\n\u001b[1;32m      7\u001b[0m \u001b[0;34m\u001b[0m\u001b[0m\n\u001b[0;32m----> 8\u001b[0;31m         \u001b[0;32mfor\u001b[0m \u001b[0mrow\u001b[0m \u001b[0;32min\u001b[0m \u001b[0mcsv\u001b[0m\u001b[0;34m.\u001b[0m\u001b[0mDictReader\u001b[0m\u001b[0;34m(\u001b[0m\u001b[0mcsvfile\u001b[0m\u001b[0;34m)\u001b[0m\u001b[0;34m:\u001b[0m\u001b[0;34m\u001b[0m\u001b[0;34m\u001b[0m\u001b[0m\n\u001b[0m\u001b[1;32m      9\u001b[0m \u001b[0;34m\u001b[0m\u001b[0m\n\u001b[1;32m     10\u001b[0m \u001b[0;34m\u001b[0m\u001b[0m\n",
      "\u001b[0;32m/home/linuxbrew/.linuxbrew/opt/python@3.9/lib/python3.9/csv.py\u001b[0m in \u001b[0;36m__next__\u001b[0;34m(self)\u001b[0m\n\u001b[1;32m    117\u001b[0m         \u001b[0;32mwhile\u001b[0m \u001b[0mrow\u001b[0m \u001b[0;34m==\u001b[0m \u001b[0;34m[\u001b[0m\u001b[0;34m]\u001b[0m\u001b[0;34m:\u001b[0m\u001b[0;34m\u001b[0m\u001b[0;34m\u001b[0m\u001b[0m\n\u001b[1;32m    118\u001b[0m             \u001b[0mrow\u001b[0m \u001b[0;34m=\u001b[0m \u001b[0mnext\u001b[0m\u001b[0;34m(\u001b[0m\u001b[0mself\u001b[0m\u001b[0;34m.\u001b[0m\u001b[0mreader\u001b[0m\u001b[0;34m)\u001b[0m\u001b[0;34m\u001b[0m\u001b[0;34m\u001b[0m\u001b[0m\n\u001b[0;32m--> 119\u001b[0;31m         \u001b[0md\u001b[0m \u001b[0;34m=\u001b[0m \u001b[0mdict\u001b[0m\u001b[0;34m(\u001b[0m\u001b[0mzip\u001b[0m\u001b[0;34m(\u001b[0m\u001b[0mself\u001b[0m\u001b[0;34m.\u001b[0m\u001b[0mfieldnames\u001b[0m\u001b[0;34m,\u001b[0m \u001b[0mrow\u001b[0m\u001b[0;34m)\u001b[0m\u001b[0;34m)\u001b[0m\u001b[0;34m\u001b[0m\u001b[0;34m\u001b[0m\u001b[0m\n\u001b[0m\u001b[1;32m    120\u001b[0m         \u001b[0mlf\u001b[0m \u001b[0;34m=\u001b[0m \u001b[0mlen\u001b[0m\u001b[0;34m(\u001b[0m\u001b[0mself\u001b[0m\u001b[0;34m.\u001b[0m\u001b[0mfieldnames\u001b[0m\u001b[0;34m)\u001b[0m\u001b[0;34m\u001b[0m\u001b[0;34m\u001b[0m\u001b[0m\n\u001b[1;32m    121\u001b[0m         \u001b[0mlr\u001b[0m \u001b[0;34m=\u001b[0m \u001b[0mlen\u001b[0m\u001b[0;34m(\u001b[0m\u001b[0mrow\u001b[0m\u001b[0;34m)\u001b[0m\u001b[0;34m\u001b[0m\u001b[0;34m\u001b[0m\u001b[0m\n",
      "\u001b[0;31mKeyboardInterrupt\u001b[0m: "
     ]
    }
   ],
   "source": [
    "# pprint([x for i, x  in enumerate(document_stream(\"co19_2020-06-09_nort.csv.gz\", index_name)) if i > 0 and i <= 10])"
   ]
  },
  {
   "cell_type": "code",
   "execution_count": null,
   "id": "4b04d1ee-a447-4cbd-8a5f-6efabba4fff8",
   "metadata": {},
   "outputs": [],
   "source": [
    "! curl -X PUT http://localhost:9200/_cluster/settings  -H \"Content-Type: application/json\" --data '{\n",
    "  \"transient\": {\n",
    "    \"cluster.routing.allocation.disk.watermark.low\": \"5gb\",\n",
    "    \"cluster.routing.allocation.disk.watermark.high\": \"1gb\",\n",
    "    \"cluster.routing.allocation.disk.watermark.flood_stage\": \"1gb\",\n",
    "    \"cluster.info.update.interval\": \"1m\"\n",
    "  }\n",
    "}'"
   ]
  },
  {
   "cell_type": "code",
   "execution_count": 11,
   "id": "bdfe33f1-8cdc-4fa6-ad89-40506668f5ca",
   "metadata": {
    "scrolled": true,
    "tags": []
   },
   "outputs": [
    {
     "name": "stdout",
     "output_type": "stream",
     "text": [
      "/mnt/e/twitter/clean_en/co19_2021-02-14_nort.csv.gz\n",
      "/mnt/e/twitter/clean_en/co19_2021-02-15_nort.csv.gz\n",
      "/mnt/e/twitter/clean_en/co19_2021-02-16_nort.csv.gz\n",
      "/mnt/e/twitter/clean_en/co19_2021-02-17_nort.csv.gz\n",
      "/mnt/e/twitter/clean_en/co19_2021-02-18_nort.csv.gz\n",
      "/mnt/e/twitter/clean_en/co19_2021-02-19_nort.csv.gz\n",
      "/mnt/e/twitter/clean_en/co19_2021-02-20_nort.csv.gz\n",
      "/mnt/e/twitter/clean_en/co19_2021-02-21_nort.csv.gz\n",
      "/mnt/e/twitter/clean_en/co19_2021-02-22_nort.csv.gz\n",
      "/mnt/e/twitter/clean_en/co19_2021-02-23_nort.csv.gz\n",
      "/mnt/e/twitter/clean_en/co19_2021-02-24_nort.csv.gz\n",
      "/mnt/e/twitter/clean_en/co19_2021-02-25_nort.csv.gz\n",
      "/mnt/e/twitter/clean_en/co19_2021-02-26_nort.csv.gz\n",
      "/mnt/e/twitter/clean_en/co19_2021-02-27_nort.csv.gz\n",
      "/mnt/e/twitter/clean_en/co19_2021-02-28_nort.csv.gz\n",
      "/mnt/e/twitter/clean_en/co19_2021-03-01_nort.csv.gz\n",
      "/mnt/e/twitter/clean_en/co19_2021-03-02_nort.csv.gz\n",
      "/mnt/e/twitter/clean_en/co19_2021-03-03_nort.csv.gz\n",
      "/mnt/e/twitter/clean_en/co19_2021-03-04_nort.csv.gz\n",
      "/mnt/e/twitter/clean_en/co19_2021-03-05_nort.csv.gz\n",
      "/mnt/e/twitter/clean_en/co19_2021-03-06_nort.csv.gz\n",
      "/mnt/e/twitter/clean_en/co19_2021-03-07_nort.csv.gz\n",
      "/mnt/e/twitter/clean_en/co19_2021-03-08_nort.csv.gz\n",
      "/mnt/e/twitter/clean_en/co19_2021-03-09_nort.csv.gz\n",
      "/mnt/e/twitter/clean_en/co19_2021-03-10_nort.csv.gz\n",
      "/mnt/e/twitter/clean_en/co19_2021-03-11_nort.csv.gz\n",
      "/mnt/e/twitter/clean_en/co19_2021-03-12_nort.csv.gz\n",
      "/mnt/e/twitter/clean_en/co19_2021-03-13_nort.csv.gz\n",
      "/mnt/e/twitter/clean_en/co19_2021-03-14_nort.csv.gz\n",
      "/mnt/e/twitter/clean_en/co19_2021-03-15_nort.csv.gz\n",
      "/mnt/e/twitter/clean_en/co19_2021-03-16_nort.csv.gz\n",
      "/mnt/e/twitter/clean_en/co19_2021-03-17_nort.csv.gz\n",
      "/mnt/e/twitter/clean_en/co19_2021-03-19_nort.csv.gz\n",
      "/mnt/e/twitter/clean_en/co19_2021-03-20_nort.csv.gz\n",
      "/mnt/e/twitter/clean_en/co19_2021-03-21_nort.csv.gz\n",
      "/mnt/e/twitter/clean_en/co19_2021-03-22_nort.csv.gz\n",
      "/mnt/e/twitter/clean_en/co19_2021-03-23_nort.csv.gz\n",
      "/mnt/e/twitter/clean_en/co19_2021-03-24_nort.csv.gz\n",
      "/mnt/e/twitter/clean_en/co19_2021-03-25_nort.csv.gz\n",
      "/mnt/e/twitter/clean_en/co19_2021-03-26_nort.csv.gz\n",
      "/mnt/e/twitter/clean_en/co19_2021-03-27_nort.csv.gz\n",
      "/mnt/e/twitter/clean_en/co19_2021-03-28_nort.csv.gz\n",
      "/mnt/e/twitter/clean_en/co19_2021-03-29_nort.csv.gz\n",
      "/mnt/e/twitter/clean_en/co19_2021-03-30_nort.csv.gz\n",
      "/mnt/e/twitter/clean_en/co19_2021-03-31_nort.csv.gz\n",
      "/mnt/e/twitter/clean_en/co19_2021-04-01_nort.csv.gz\n",
      "/mnt/e/twitter/clean_en/co19_2021-04-02_nort.csv.gz\n",
      "/mnt/e/twitter/clean_en/co19_2021-04-03_nort.csv.gz\n",
      "/mnt/e/twitter/clean_en/co19_2021-04-04_nort.csv.gz\n",
      "/mnt/e/twitter/clean_en/co19_2021-04-05_nort.csv.gz\n",
      "/mnt/e/twitter/clean_en/co19_2021-04-06_nort.csv.gz\n",
      "/mnt/e/twitter/clean_en/co19_2021-04-07_nort.csv.gz\n",
      "/mnt/e/twitter/clean_en/co19_2021-04-08_nort.csv.gz\n",
      "/mnt/e/twitter/clean_en/co19_2021-04-09_nort.csv.gz\n",
      "/mnt/e/twitter/clean_en/co19_2021-04-10_nort.csv.gz\n",
      "/mnt/e/twitter/clean_en/co19_2021-04-11_nort.csv.gz\n",
      "/mnt/e/twitter/clean_en/co19_2021-04-12_nort.csv.gz\n",
      "/mnt/e/twitter/clean_en/co19_2021-04-13_nort.csv.gz\n",
      "/mnt/e/twitter/clean_en/co19_2021-04-14_nort.csv.gz\n",
      "/mnt/e/twitter/clean_en/co19_2021-04-15_nort.csv.gz\n",
      "/mnt/e/twitter/clean_en/co19_2021-04-16_nort.csv.gz\n",
      "/mnt/e/twitter/clean_en/co19_2021-04-17_nort.csv.gz\n",
      "/mnt/e/twitter/clean_en/co19_2021-04-18_nort.csv.gz\n",
      "/mnt/e/twitter/clean_en/co19_2021-04-19_nort.csv.gz\n",
      "/mnt/e/twitter/clean_en/co19_2021-04-20_nort.csv.gz\n",
      "/mnt/e/twitter/clean_en/co19_2021-04-21_nort.csv.gz\n",
      "/mnt/e/twitter/clean_en/co19_2021-04-22_nort.csv.gz\n",
      "/mnt/e/twitter/clean_en/co19_2021-04-23_nort.csv.gz\n",
      "/mnt/e/twitter/clean_en/co19_2021-04-24_nort.csv.gz\n",
      "/mnt/e/twitter/clean_en/co19_2021-04-25_nort.csv.gz\n",
      "/mnt/e/twitter/clean_en/co19_2021-04-26_nort.csv.gz\n",
      "/mnt/e/twitter/clean_en/co19_2021-04-27_nort.csv.gz\n",
      "/mnt/e/twitter/clean_en/co19_2021-04-28_nort.csv.gz\n",
      "/mnt/e/twitter/clean_en/co19_2021-04-29_nort.csv.gz\n",
      "/mnt/e/twitter/clean_en/co19_2021-04-30_nort.csv.gz\n",
      "/mnt/e/twitter/clean_en/co19_2021-05-01_nort.csv.gz\n",
      "/mnt/e/twitter/clean_en/co19_2021-05-02_nort.csv.gz\n",
      "/mnt/e/twitter/clean_en/co19_2021-05-03_nort.csv.gz\n",
      "/mnt/e/twitter/clean_en/co19_2021-05-04_nort.csv.gz\n",
      "/mnt/e/twitter/clean_en/co19_2021-05-05_nort.csv.gz\n",
      "/mnt/e/twitter/clean_en/co19_2021-05-06_nort.csv.gz\n",
      "/mnt/e/twitter/clean_en/co19_2021-05-07_nort.csv.gz\n",
      "/mnt/e/twitter/clean_en/co19_2021-05-08_nort.csv.gz\n",
      "/mnt/e/twitter/clean_en/co19_2021-05-09_nort.csv.gz\n",
      "/mnt/e/twitter/clean_en/co19_2021-05-10_nort.csv.gz\n",
      "/mnt/e/twitter/clean_en/co19_2021-05-11_nort.csv.gz\n",
      "/mnt/e/twitter/clean_en/co19_2021-05-12_nort.csv.gz\n",
      "/mnt/e/twitter/clean_en/co19_2021-05-13_nort.csv.gz\n",
      "/mnt/e/twitter/clean_en/co19_2021-05-14_nort.csv.gz\n",
      "/mnt/e/twitter/clean_en/co19_2021-05-15_nort.csv.gz\n",
      "/mnt/e/twitter/clean_en/co19_2021-05-16_nort.csv.gz\n",
      "/mnt/e/twitter/clean_en/co19_2021-05-17_nort.csv.gz\n",
      "/mnt/e/twitter/clean_en/co19_2021-05-18_nort.csv.gz\n",
      "/mnt/e/twitter/clean_en/co19_2021-05-19_nort.csv.gz\n",
      "/mnt/e/twitter/clean_en/co19_2021-05-20_nort.csv.gz\n",
      "/mnt/e/twitter/clean_en/co19_2021-05-21_nort.csv.gz\n",
      "/mnt/e/twitter/clean_en/co19_2021-05-22_nort.csv.gz\n",
      "/mnt/e/twitter/clean_en/co19_2021-05-23_nort.csv.gz\n",
      "/mnt/e/twitter/clean_en/co19_2021-05-24_nort.csv.gz\n",
      "/mnt/e/twitter/clean_en/co19_2021-05-25_nort.csv.gz\n",
      "/mnt/e/twitter/clean_en/co19_2021-05-26_nort.csv.gz\n",
      "/mnt/e/twitter/clean_en/co19_2021-05-27_nort.csv.gz\n",
      "/mnt/e/twitter/clean_en/co19_2021-05-28_nort.csv.gz\n",
      "/mnt/e/twitter/clean_en/co19_2021-05-29_nort.csv.gz\n",
      "/mnt/e/twitter/clean_en/co19_2021-05-30_nort.csv.gz\n",
      "/mnt/e/twitter/clean_en/co19_2021-05-31_nort.csv.gz\n",
      "/mnt/e/twitter/clean_en/co19_2021-06-01_nort.csv.gz\n",
      "/mnt/e/twitter/clean_en/co19_2021-06-02_nort.csv.gz\n",
      "/mnt/e/twitter/clean_en/co19_2021-06-03_nort.csv.gz\n",
      "/mnt/e/twitter/clean_en/co19_2021-06-04_nort.csv.gz\n",
      "/mnt/e/twitter/clean_en/co19_2021-06-05_nort.csv.gz\n",
      "/mnt/e/twitter/clean_en/co19_2021-06-06_nort.csv.gz\n",
      "/mnt/e/twitter/clean_en/co19_2021-06-07_nort.csv.gz\n",
      "/mnt/e/twitter/clean_en/co19_2021-06-08_nort.csv.gz\n",
      "/mnt/e/twitter/clean_en/co19_2021-06-09_nort.csv.gz\n",
      "/mnt/e/twitter/clean_en/co19_2021-06-10_nort.csv.gz\n",
      "/mnt/e/twitter/clean_en/co19_2021-06-11_nort.csv.gz\n",
      "/mnt/e/twitter/clean_en/co19_2021-06-12_nort.csv.gz\n",
      "/mnt/e/twitter/clean_en/co19_2021-06-13_nort.csv.gz\n",
      "/mnt/e/twitter/clean_en/co19_2021-06-14_nort.csv.gz\n",
      "/mnt/e/twitter/clean_en/co19_2021-06-15_nort.csv.gz\n",
      "/mnt/e/twitter/clean_en/co19_2021-06-16_nort.csv.gz\n",
      "/mnt/e/twitter/clean_en/co19_2021-06-17_nort.csv.gz\n",
      "/mnt/e/twitter/clean_en/co19_2021-06-18_nort.csv.gz\n",
      "/mnt/e/twitter/clean_en/co19_2021-06-19_nort.csv.gz\n",
      "/mnt/e/twitter/clean_en/co19_2021-06-20_nort.csv.gz\n",
      "/mnt/e/twitter/clean_en/co19_2021-06-21_nort.csv.gz\n",
      "/mnt/e/twitter/clean_en/co19_2021-06-22_nort.csv.gz\n",
      "/mnt/e/twitter/clean_en/co19_2021-06-23_nort.csv.gz\n",
      "/mnt/e/twitter/clean_en/co19_2021-06-24_nort.csv.gz\n",
      "/mnt/e/twitter/clean_en/co19_2021-06-25_nort.csv.gz\n",
      "/mnt/e/twitter/clean_en/co19_2021-06-26_nort.csv.gz\n",
      "/mnt/e/twitter/clean_en/co19_2021-06-27_nort.csv.gz\n",
      "/mnt/e/twitter/clean_en/co19_2021-06-28_nort.csv.gz\n",
      "/mnt/e/twitter/clean_en/co19_2021-06-29_nort.csv.gz\n",
      "/mnt/e/twitter/clean_en/co19_2021-06-30_nort.csv.gz\n",
      "/mnt/e/twitter/clean_en/co19_2021-07-01_nort.csv.gz\n",
      "/mnt/e/twitter/clean_en/co19_2021-07-02_nort.csv.gz\n",
      "/mnt/e/twitter/clean_en/co19_2021-07-03_nort.csv.gz\n",
      "/mnt/e/twitter/clean_en/co19_2021-07-04_nort.csv.gz\n",
      "/mnt/e/twitter/clean_en/co19_2021-07-05_nort.csv.gz\n",
      "/mnt/e/twitter/clean_en/co19_2021-07-06_nort.csv.gz\n",
      "/mnt/e/twitter/clean_en/co19_2021-07-07_nort.csv.gz\n",
      "/mnt/e/twitter/clean_en/co19_2021-07-08_nort.csv.gz\n",
      "/mnt/e/twitter/clean_en/co19_2021-07-09_nort.csv.gz\n",
      "/mnt/e/twitter/clean_en/co19_2021-07-10_nort.csv.gz\n",
      "/mnt/e/twitter/clean_en/co19_2021-07-11_nort.csv.gz\n",
      "/mnt/e/twitter/clean_en/co19_2021-07-12_nort.csv.gz\n",
      "/mnt/e/twitter/clean_en/co19_2021-07-13_nort.csv.gz\n",
      "/mnt/e/twitter/clean_en/co19_2021-07-14_nort.csv.gz\n",
      "/mnt/e/twitter/clean_en/co19_2021-07-15_nort.csv.gz\n",
      "/mnt/e/twitter/clean_en/co19_2021-07-16_nort.csv.gz\n",
      "/mnt/e/twitter/clean_en/co19_2021-07-17_nort.csv.gz\n",
      "/mnt/e/twitter/clean_en/co19_2021-07-18_nort.csv.gz\n",
      "/mnt/e/twitter/clean_en/co19_2021-07-19_nort.csv.gz\n",
      "/mnt/e/twitter/clean_en/co19_2021-07-20_nort.csv.gz\n",
      "/mnt/e/twitter/clean_en/co19_2021-07-21_nort.csv.gz\n",
      "/mnt/e/twitter/clean_en/co19_2021-07-22_nort.csv.gz\n",
      "/mnt/e/twitter/clean_en/co19_2021-07-23_nort.csv.gz\n",
      "/mnt/e/twitter/clean_en/co19_2021-07-24_nort.csv.gz\n",
      "/mnt/e/twitter/clean_en/co19_2021-07-25_nort.csv.gz\n",
      "/mnt/e/twitter/clean_en/co19_2021-07-26_nort.csv.gz\n",
      "/mnt/e/twitter/clean_en/co19_2021-07-27_nort.csv.gz\n",
      "/mnt/e/twitter/clean_en/co19_2021-07-28_nort.csv.gz\n",
      "/mnt/e/twitter/clean_en/co19_2021-07-29_nort.csv.gz\n",
      "/mnt/e/twitter/clean_en/co19_2021-07-30_nort.csv.gz\n",
      "/mnt/e/twitter/clean_en/co19_2021-07-31_nort.csv.gz\n",
      "/mnt/e/twitter/clean_en/co19_2021-08-01_nort.csv.gz\n"
     ]
    }
   ],
   "source": [
    "#took around 2 hrs to insert 02-14 to 08!\n",
    "import os\n",
    "import shutil\n",
    "from glob import glob \n",
    "import time\n",
    "start_time = time.time()\n",
    "dir_to_insert = '/mnt/e/twitter/clean_en/*csv.gz'\n",
    "for f in glob(dir_to_insert):\n",
    "    print(f)\n",
    "#     helpers.bulk(es, actions =  document_stream(os.path.join(dir_to_insert, f), index_name), chunk_size=1000, request_timeout=30)\n",
    "    \n",
    "    for success, info in helpers.parallel_bulk(es, actions =  document_stream(os.path.join(dir_to_insert, f), index_name), chunk_size=1000, request_timeout=30):\n",
    "        if not success:\n",
    "            print('A document failed:', info)\n",
    "            \n",
    "end_time = time.time()"
   ]
  },
  {
   "cell_type": "code",
   "execution_count": 8,
   "id": "2bc1aff2-d60d-40f3-881a-c17b0357250b",
   "metadata": {
    "tags": []
   },
   "outputs": [
    {
     "data": {
      "text/plain": [
       "(10, [])"
      ]
     },
     "execution_count": 8,
     "metadata": {},
     "output_type": "execute_result"
    }
   ],
   "source": [
    "helpers.bulk(es, actions = [x for i, x  in enumerate(document_stream(\"co19_2020-06-09_nort.csv.gz\", index_name)) if i > 0 and i <= 10])"
   ]
  },
  {
   "cell_type": "code",
   "execution_count": 12,
   "id": "e0d32bb7-f78e-450c-82b9-128f1d2a5e03",
   "metadata": {},
   "outputs": [
    {
     "data": {
      "text/plain": [
       "8216.871341228485"
      ]
     },
     "execution_count": 12,
     "metadata": {},
     "output_type": "execute_result"
    }
   ],
   "source": [
    "end_time - start_time"
   ]
  },
  {
   "cell_type": "code",
   "execution_count": null,
   "id": "0edad298-da9a-4eed-a124-a651ad2bc93e",
   "metadata": {},
   "outputs": [],
   "source": []
  }
 ],
 "metadata": {
  "kernelspec": {
   "display_name": "Python 3 (ipykernel)",
   "language": "python",
   "name": "python3"
  },
  "language_info": {
   "codemirror_mode": {
    "name": "ipython",
    "version": 3
   },
   "file_extension": ".py",
   "mimetype": "text/x-python",
   "name": "python",
   "nbconvert_exporter": "python",
   "pygments_lexer": "ipython3",
   "version": "3.9.0"
  }
 },
 "nbformat": 4,
 "nbformat_minor": 5
}
